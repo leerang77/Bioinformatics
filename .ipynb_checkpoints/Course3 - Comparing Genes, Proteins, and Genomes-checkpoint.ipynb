{
 "cells": [
  {
   "cell_type": "markdown",
   "id": "3c76be91",
   "metadata": {},
   "source": [
    "## Course 3 - Comparing Genes, Proteins, and Genomes "
   ]
  },
  {
   "cell_type": "markdown",
   "id": "b1363c08",
   "metadata": {},
   "source": [
    "### The course covers following topics:\n",
    "  3.1 Local sequence alignment using DAGs (the Manhattan problem)  \n",
    "  3.2 Application - Edit distance, Fitting alignment, Overlap alignment  \n",
    "  3.3 Linear-space sequence alignment (the middle edge problem)  \n",
    "  3.4. Multiple sequence alignment using DAGs  "
   ]
  },
  {
   "cell_type": "code",
   "execution_count": null,
   "id": "033f154d",
   "metadata": {},
   "outputs": [],
   "source": []
  }
 ],
 "metadata": {
  "kernelspec": {
   "display_name": "Python 3 (ipykernel)",
   "language": "python",
   "name": "python3"
  },
  "language_info": {
   "codemirror_mode": {
    "name": "ipython",
    "version": 3
   },
   "file_extension": ".py",
   "mimetype": "text/x-python",
   "name": "python",
   "nbconvert_exporter": "python",
   "pygments_lexer": "ipython3",
   "version": "3.9.7"
  }
 },
 "nbformat": 4,
 "nbformat_minor": 5
}
