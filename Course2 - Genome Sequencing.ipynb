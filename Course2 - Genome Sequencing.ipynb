{
 "cells": [
  {
   "cell_type": "markdown",
   "id": "6777834f",
   "metadata": {},
   "source": [
    "## Course 2 - Finding Hidden Messages in DNA  \n",
    "\n",
    "#### The course covers following topics:\n",
    "  2.1 Implementation of De Bruijn Graph for assembling genome sequencing reads into contigs  \n",
    "  2.2 Implementation of Branch-and-Bound algorithm for reconstruction of peptides from mass spectrometry data"
   ]
  },
  {
   "cell_type": "code",
   "execution_count": null,
   "id": "a1f07605",
   "metadata": {},
   "outputs": [],
   "source": []
  }
 ],
 "metadata": {
  "kernelspec": {
   "display_name": "Python 3 (ipykernel)",
   "language": "python",
   "name": "python3"
  },
  "language_info": {
   "codemirror_mode": {
    "name": "ipython",
    "version": 3
   },
   "file_extension": ".py",
   "mimetype": "text/x-python",
   "name": "python",
   "nbconvert_exporter": "python",
   "pygments_lexer": "ipython3",
   "version": "3.9.7"
  }
 },
 "nbformat": 4,
 "nbformat_minor": 5
}
